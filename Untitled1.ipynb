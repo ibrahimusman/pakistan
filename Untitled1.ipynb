{
 "cells": [
  {
   "cell_type": "code",
   "execution_count": 1,
   "metadata": {},
   "outputs": [
    {
     "ename": "SyntaxError",
     "evalue": "invalid syntax (<ipython-input-1-81c87467ee1a>, line 2)",
     "output_type": "error",
     "traceback": [
      "\u001b[1;36m  File \u001b[1;32m\"<ipython-input-1-81c87467ee1a>\"\u001b[1;36m, line \u001b[1;32m2\u001b[0m\n\u001b[1;33m    The Zen of Python, by Tim Peters\u001b[0m\n\u001b[1;37m      ^\u001b[0m\n\u001b[1;31mSyntaxError\u001b[0m\u001b[1;31m:\u001b[0m invalid syntax\n"
     ]
    }
   ],
   "source": [
    "__import__ (this\n",
    "The Zen of Python, by Tim Peters\n",
    "Beautiful is better than ugly.)"
   ]
  },
  {
   "cell_type": "code",
   "execution_count": null,
   "metadata": {},
   "outputs": [],
   "source": [
    "#3-1. Names: Store the names of a few of your friends in a list called names. Print\n",
    "#each person’s name by accessing each element in the list, one at a time.\n",
    "#3-2. Greetings: Start with the list you used in Exercise 3-1, but instead of just\n",
    "#printing each person’s name, print a message to them. The text of each message\n",
    "#should be the same, but each message should be personalized with the\n",
    "#person’s name.\n",
    "#3-3. Your Own List: Think of your favorite mode of transportation, such as a\n",
    "#motorcycle or a car, and make a list that stores several examples. Use your list\n",
    "#to print a series of statements about these items, such as “I would like to own a\n",
    "#Honda motorcycle.”"
   ]
  },
  {
   "cell_type": "code",
   "execution_count": 2,
   "metadata": {},
   "outputs": [],
   "source": [
    "friends = [\"xil\", \"buksh\", \"shaheer\", \"asjad\"]"
   ]
  },
  {
   "cell_type": "code",
   "execution_count": 11,
   "metadata": {},
   "outputs": [
    {
     "name": "stdout",
     "output_type": "stream",
     "text": [
      "buksh\n",
      "xil\n",
      "shaheer\n",
      "asjad\n",
      "['xil', 'buksh', 'shaheer', 'asjad']\n"
     ]
    }
   ],
   "source": [
    "print(friends[1])\n",
    "print(friends[0])\n",
    "print(friends[2])\n",
    "print(friends[3])\n",
    "print(friends)"
   ]
  },
  {
   "cell_type": "code",
   "execution_count": 38,
   "metadata": {},
   "outputs": [
    {
     "name": "stdout",
     "output_type": "stream",
     "text": [
      "tu pagle hay buksh\n",
      "tu acha hay xil\n",
      "tu kutta hay shaheer\n"
     ]
    }
   ],
   "source": [
    "print(f'tu pagle hay {friends[1]}')\n",
    "print(f'tu acha hay {friends[0]}')\n",
    "print(f'tu kutta hay {friends[2]}')"
   ]
  },
  {
   "cell_type": "code",
   "execution_count": 39,
   "metadata": {},
   "outputs": [],
   "source": [
    "cars = [\"honda civic 2019\", \"corola 2019\", \"mercidies 2019\"]"
   ]
  },
  {
   "cell_type": "code",
   "execution_count": 53,
   "metadata": {},
   "outputs": [
    {
     "name": "stdout",
     "output_type": "stream",
     "text": [
      "['xil honda civic 2019']\n",
      "['xil honda civic 2019', 'buksh honda civic 2019']\n",
      "['xil honda civic 2019', 'buksh honda civic 2019', 'shaheer honda civic 2019']\n",
      "['xil honda civic 2019', 'buksh honda civic 2019', 'shaheer honda civic 2019', 'asjad honda civic 2019']\n"
     ]
    }
   ],
   "source": [
    "persons_cars = []\n",
    "for  a_friend in friends:\n",
    "    for  a_car in cars:\n",
    "        persons_cars.append(a_friend + \" \" + a_car)\n",
    "        print(persons_cars)\n",
    "        break"
   ]
  },
  {
   "cell_type": "code",
   "execution_count": null,
   "metadata": {},
   "outputs": [],
   "source": []
  }
 ],
 "metadata": {
  "kernelspec": {
   "display_name": "Python 3",
   "language": "python",
   "name": "python3"
  },
  "language_info": {
   "codemirror_mode": {
    "name": "ipython",
    "version": 3
   },
   "file_extension": ".py",
   "mimetype": "text/x-python",
   "name": "python",
   "nbconvert_exporter": "python",
   "pygments_lexer": "ipython3",
   "version": "3.7.3"
  }
 },
 "nbformat": 4,
 "nbformat_minor": 2
}
